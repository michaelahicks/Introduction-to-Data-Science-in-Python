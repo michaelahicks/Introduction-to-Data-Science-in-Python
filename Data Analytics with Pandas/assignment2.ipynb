{
 "cells": [
  {
   "cell_type": "markdown",
   "metadata": {
    "deletable": false,
    "editable": false,
    "nbgrader": {
     "checksum": "5a8d839ee00398fa3bd3bc58ec642beb",
     "grade": false,
     "grade_id": "cell-a839e7b47494b4c3",
     "locked": true,
     "schema_version": 1,
     "solution": false
    }
   },
   "source": [
    "# Assignment 2\n",
    "For this assignment you'll be looking at 2017 data on immunizations from the CDC. Your datafile for this assignment is in [assets/NISPUF17.csv](assets/NISPUF17.csv). A data users guide for this, which you'll need to map the variables in the data to the questions being asked, is available at [assets/NIS-PUF17-DUG.pdf](assets/NIS-PUF17-DUG.pdf). **Note: you may have to go to your Jupyter tree (click on the Coursera image) and navigate to the assignment 2 assets folder to see this PDF file).**"
   ]
  },
  {
   "cell_type": "markdown",
   "metadata": {
    "deletable": false,
    "editable": false,
    "hideCode": false,
    "hidePrompt": false,
    "nbgrader": {
     "checksum": "aaa5e730f40ba21c1bc94f864bad4742",
     "grade": false,
     "grade_id": "cell-58fc2e5938733f6a",
     "locked": true,
     "schema_version": 1,
     "solution": false
    }
   },
   "source": [
    "## Question 1\n",
    "Write a function called `proportion_of_education` which returns the proportion of children in the dataset who had a mother with the education levels equal to less than high school (<12), high school (12), more than high school but not a college graduate (>12) and college degree.\n",
    "\n",
    "*This function should return a dictionary in the form of (use the correct numbers, do not round numbers):* \n",
    "```\n",
    "    {\"less than high school\":0.2,\n",
    "    \"high school\":0.4,\n",
    "    \"more than high school but not college\":0.2,\n",
    "    \"college\":0.2}\n",
    "```\n"
   ]
  },
  {
   "cell_type": "code",
   "execution_count": 9,
   "metadata": {
    "deletable": false,
    "nbgrader": {
     "checksum": "0ac58deb3f5ac988c643e903cbee7f3a",
     "grade": false,
     "grade_id": "cell-eea16d020eb52ae7",
     "locked": false,
     "schema_version": 1,
     "solution": true
    }
   },
   "outputs": [],
   "source": [
    "import numpy as np\n",
    "import pandas as pd\n",
    "\n",
    "def proportion_of_education():\n",
    "    # your code goes here\n",
    "    # YOUR CODE HERE\n",
    "    df = pd.read_csv('assets/NISPUF17.csv', usecols=['SEQNUMC', 'EDUC1'])\n",
    "    \n",
    "    edu_dic = {\"less than high school\": 0,\n",
    "            \"high school\": 0,\n",
    "            \"more than high school but not college\": 0,\n",
    "             \"college\": 0}\n",
    "\n",
    "    df_mask_one = df['EDUC1'] == 1\n",
    "    edu_dic[\"less than high school\"] = len(df[df_mask_one])\n",
    "    \n",
    "    df_mask_two = df['EDUC1'] == 2\n",
    "    edu_dic[\"high school\"] = len(df[df_mask_two])\n",
    "    \n",
    "    df_mask_three = df['EDUC1'] == 3\n",
    "    edu_dic[\"more than high school but not college\"] = len(df[df_mask_three])\n",
    "    \n",
    "    df_mask_four = df['EDUC1'] == 4\n",
    "    edu_dic[\"college\"] = len(df[df_mask_four])\n",
    "    \n",
    "    edu_dic_per = {}\n",
    "    edu_dic_per[\"less than high school\"] = edu_dic[\"less than high school\"]/len(df)\n",
    "    edu_dic_per[\"high school\"] = edu_dic[\"high school\"]/len(df)\n",
    "    edu_dic_per[\"more than high school but not college\"] = edu_dic[\"more than high school but not college\"]/len(df)\n",
    "    edu_dic_per[\"college\"] = edu_dic[\"college\"]/len(df)\n",
    "    \n",
    "    return edu_dic_per\n",
    "    raise NotImplementedError()"
   ]
  },
  {
   "cell_type": "code",
   "execution_count": 10,
   "metadata": {
    "deletable": false,
    "editable": false,
    "hideCode": false,
    "hidePrompt": false,
    "nbgrader": {
     "checksum": "ac5d91a24a7f72f66c25d242c3d24a50",
     "grade": true,
     "grade_id": "cell-c0eeef201366f51c",
     "locked": true,
     "points": 1,
     "schema_version": 1,
     "solution": false
    }
   },
   "outputs": [],
   "source": [
    "assert type(proportion_of_education())==type({}), \"You must return a dictionary.\"\n",
    "assert len(proportion_of_education()) == 4, \"You have not returned a dictionary with four items in it.\"\n",
    "assert \"less than high school\" in proportion_of_education().keys(), \"You have not returned a dictionary with the correct keys.\"\n",
    "assert \"high school\" in proportion_of_education().keys(), \"You have not returned a dictionary with the correct keys.\"\n",
    "assert \"more than high school but not college\" in proportion_of_education().keys(), \"You have not returned a dictionary with the correct keys.\"\n",
    "assert \"college\" in proportion_of_education().keys(), \"You have not returned a dictionary with the correct keys.\"\n"
   ]
  },
  {
   "cell_type": "markdown",
   "metadata": {
    "deletable": false,
    "editable": false,
    "nbgrader": {
     "checksum": "562b78b7b9b79580269be0a3bebf4b42",
     "grade": false,
     "grade_id": "cell-8fcbb64516283f52",
     "locked": true,
     "schema_version": 1,
     "solution": false
    }
   },
   "source": [
    "## Question 2\n",
    "\n",
    "Let's explore the relationship between being fed breastmilk as a child and getting a seasonal influenza vaccine from a healthcare provider. Return a tuple of the average number of influenza vaccines for those children we know received breastmilk as a child and those who know did not.\n",
    "\n",
    "*This function should return a tuple in the form (use the correct numbers:*\n",
    "```\n",
    "(2.5, 0.1)\n",
    "```"
   ]
  },
  {
   "cell_type": "code",
   "execution_count": 11,
   "metadata": {
    "deletable": false,
    "nbgrader": {
     "checksum": "a405d639063c4a6408365479f29c95c9",
     "grade": false,
     "grade_id": "cell-77f18c512324eabb",
     "locked": false,
     "schema_version": 1,
     "solution": true
    }
   },
   "outputs": [],
   "source": [
    "import numpy as np\n",
    "import pandas as pd\n",
    "\n",
    "def average_influenza_doses():\n",
    "    # YOUR CODE HERE\n",
    "    df_bf = pd.read_csv('assets/NISPUF17.csv', usecols=['SEQNUMC', 'BF_ENDR06', 'CBF_01', 'P_NUMFLU', 'BF_ENDR06'])\n",
    "    df_bf.dropna()\n",
    "    \n",
    "    df_mask_one = df_bf['CBF_01'] == 1  # breastfed babies\n",
    "    df_breast = df_bf[df_mask_one]\n",
    "    df_mask_vax = df_breast['P_NUMFLU'] >= 0  # at least one vaccine\n",
    "    bf_vax_sum = df_breast[df_mask_vax]\n",
    "    \n",
    "    df_mask_two = df_bf['CBF_01'] == 2  # non-breastfed babies\n",
    "    df_nbreast = df_bf[df_mask_two]\n",
    "    df_mask_vax_two = df_nbreast['P_NUMFLU'] >= 0 # at least one vaccine\n",
    "    nbf_vax_sum = df_nbreast[df_mask_vax_two]\n",
    "    \n",
    "    bf_avg_vax = df_breast[df_mask_vax]['P_NUMFLU'].mean()\n",
    "    nbf_vax_avg = df_nbreast[df_mask_vax_two]['P_NUMFLU'].mean()\n",
    "    \n",
    "    fluvax_avgs = (bf_avg_vax, nbf_vax_avg)\n",
    "    print(fluvax_avgs)\n",
    "    \n",
    "    return fluvax_avgs\n",
    "    raise NotImplementedError()"
   ]
  },
  {
   "cell_type": "code",
   "execution_count": 12,
   "metadata": {
    "deletable": false,
    "editable": false,
    "nbgrader": {
     "checksum": "19be955e97fdf7162d43fbb7c2c40951",
     "grade": true,
     "grade_id": "cell-54a3ba6cff31caa7",
     "locked": true,
     "points": 1,
     "schema_version": 1,
     "solution": false
    }
   },
   "outputs": [
    {
     "name": "stdout",
     "output_type": "stream",
     "text": [
      "(1.8799187420058687, 1.5963945918878317)\n"
     ]
    }
   ],
   "source": [
    "assert len(average_influenza_doses())==2, \"Return two values in a tuple, the first for yes and the second for no.\"\n"
   ]
  },
  {
   "cell_type": "markdown",
   "metadata": {
    "deletable": false,
    "editable": false,
    "nbgrader": {
     "checksum": "e10e2163f5957a0c398ef4f0b76b4efe",
     "grade": false,
     "grade_id": "cell-f63377f3c97aa7c4",
     "locked": true,
     "schema_version": 1,
     "solution": false
    }
   },
   "source": [
    "## Question 3\n",
    "It would be interesting to see if there is any evidence of a link between vaccine effectiveness and sex of the child. Calculate the ratio of the number of children who contracted chickenpox but were vaccinated against it (at least one varicella dose) versus those who were vaccinated but did not contract chicken pox. Return results by sex. \n",
    "\n",
    "*This function should return a dictionary in the form of (use the correct numbers):* \n",
    "```\n",
    "    {\"male\":0.2,\n",
    "    \"female\":0.4}\n",
    "```\n",
    "\n",
    "Note: To aid in verification, the `chickenpox_by_sex()['female']` value the autograder is looking for starts with the digits `0.0077`."
   ]
  },
  {
   "cell_type": "code",
   "execution_count": 13,
   "metadata": {
    "deletable": false,
    "nbgrader": {
     "checksum": "b4d1b58acae002bc73eb0b19f95bc4af",
     "grade": false,
     "grade_id": "cell-a0a9e6fe67698006",
     "locked": false,
     "schema_version": 1,
     "solution": true
    }
   },
   "outputs": [],
   "source": [
    "import numpy as np\n",
    "import pandas as pd\n",
    "\n",
    "def chickenpox_by_sex():\n",
    "    # YOUR CODE HERE\n",
    "    df_cpox = pd.read_csv('assets/NISPUF17.csv', usecols=['SEQNUMC', 'HAD_CPOX', 'P_NUMVRC', 'SEX'])\n",
    "    male_vax_stats = {'m_vaxxed': 0, 'm_vaxxed_wpox': 0, 'm_vaxxed_wopox': 0}\n",
    "    female_vax_stats = {'f_vaxxed': 0, 'f_vaxxed_wpox': 0, 'f_vaxxed_wopox': 0}\n",
    "    \n",
    "    pox_rates_by_sex ={}\n",
    "    \n",
    "    df_cpox_m = df_cpox['SEX'] == 1  # create the boolean mask\n",
    "    df_cpox_males = df_cpox[df_cpox_m]  # apply the boolean mask\n",
    "    df_cpox_vm = df_cpox_males['P_NUMVRC'] >= 1 # create additional boolean mask\n",
    "    df_cpox_vmales = df_cpox_males[df_cpox_vm]  # apply the boolean mask\n",
    "    df_cpox_vmyes_mask = df_cpox_vmales['HAD_CPOX'] == 1\n",
    "    df_cpox_vmyes = df_cpox_vmales[df_cpox_vmyes_mask]\n",
    "    df_cpox_vmno_mask = df_cpox_vmales['HAD_CPOX'] == 2\n",
    "    df_cpox_vmno = df_cpox_vmales[df_cpox_vmno_mask]\n",
    "    \n",
    "    male_vax_stats['m_vaxxed'] = len(df_cpox_vmales)\n",
    "    male_vax_stats['m_vaxxed_wpox'] = len(df_cpox_vmyes)\n",
    "    male_vax_stats['m_vaxxed_wopox'] = len(df_cpox_vmno)\n",
    "    \n",
    "    df_cpox_f = df_cpox['SEX'] == 2  # create the boolean mask\n",
    "    df_cpox_females = df_cpox[df_cpox_f]  # apply the boolean mask\n",
    "    df_cpox_vfm = df_cpox_females['P_NUMVRC'] >= 1 # create additional boolean mask\n",
    "    df_cpox_vfemales = df_cpox_females[df_cpox_vfm]  # apply the boolean mask\n",
    "    df_cpox_vfmyes_mask = df_cpox_vfemales['HAD_CPOX'] == 1\n",
    "    df_cpox_vfmyes = df_cpox_vfemales[df_cpox_vfmyes_mask]\n",
    "    df_cpox_vfno_mask = df_cpox_vfemales['HAD_CPOX'] == 2\n",
    "    df_cpox_vfno = df_cpox_vfemales[df_cpox_vfno_mask]\n",
    "    \n",
    "    female_vax_stats['f_vaxxed'] = len(df_cpox_vfemales)\n",
    "    female_vax_stats['f_vaxxed_wpox'] = len(df_cpox_vfmyes)\n",
    "    female_vax_stats['f_vaxxed_wopox'] = len(df_cpox_vfno)\n",
    "    \n",
    "    male_ratio = male_vax_stats['m_vaxxed_wpox'] / male_vax_stats['m_vaxxed_wopox']\n",
    "    female_ratio = female_vax_stats['f_vaxxed_wpox'] / female_vax_stats['f_vaxxed_wopox']\n",
    "    \n",
    "    pox_rates_by_sex[\"male\"] = male_ratio\n",
    "    pox_rates_by_sex[\"female\"] = female_ratio\n",
    "    \n",
    "    #print(pox_rates_by_sex)\n",
    "    return pox_rates_by_sex\n",
    "    raise NotImplementedError()"
   ]
  },
  {
   "cell_type": "code",
   "execution_count": 14,
   "metadata": {
    "deletable": false,
    "editable": false,
    "nbgrader": {
     "checksum": "1b6a113a633c55699ae478a3a9ee9c33",
     "grade": true,
     "grade_id": "cell-c4f1714db100c865",
     "locked": true,
     "points": 1,
     "schema_version": 1,
     "solution": false
    }
   },
   "outputs": [],
   "source": [
    "assert len(chickenpox_by_sex())==2, \"Return a dictionary with two items, the first for males and the second for females.\"\n"
   ]
  },
  {
   "cell_type": "markdown",
   "metadata": {},
   "source": [
    "## Question 4\n",
    "A correlation is a statistical relationship between two variables. If we wanted to know if vaccines work, we might look at the correlation between the use of the vaccine and whether it results in prevention of the infection or disease [1]. In this question, you are to see if there is a correlation between having had the chicken pox and the number of chickenpox vaccine doses given (varicella).\n",
    "\n",
    "Some notes on interpreting the answer. The `had_chickenpox_column` is either `1` (for yes) or `2` (for no), and the `num_chickenpox_vaccine_column` is the number of doses a child has been given of the varicella vaccine. A positive correlation (e.g., `corr > 0`) means that an increase in `had_chickenpox_column` (which means more no’s) would also increase the values of `num_chickenpox_vaccine_column` (which means more doses of vaccine). If there is a negative correlation (e.g., `corr < 0`), it indicates that having had chickenpox is related to an increase in the number of vaccine doses.\n",
    "\n",
    "Also, `pval` is the probability that we observe a correlation between `had_chickenpox_column` and `num_chickenpox_vaccine_column` which is greater than or equal to a particular value occurred by chance. A small `pval` means that the observed correlation is highly unlikely to occur by chance. In this case, `pval` should be very small (will end in `e-18` indicating a very small number).\n",
    "\n",
    "[1] This isn’t really the full picture, since we are not looking at when the dose was given. It’s possible that children had chickenpox and then their parents went to get them the vaccine. Does this dataset have the data we would need to investigate the timing of the dose?"
   ]
  },
  {
   "cell_type": "code",
   "execution_count": 15,
   "metadata": {
    "deletable": false,
    "nbgrader": {
     "checksum": "3e645859949447913cd11d30eb33cb1e",
     "grade": false,
     "grade_id": "cell-8afff07f564cf79a",
     "locked": false,
     "schema_version": 1,
     "solution": true
    }
   },
   "outputs": [],
   "source": [
    "def corr_chickenpox():\n",
    "    import scipy.stats as stats\n",
    "    import numpy as np\n",
    "    import pandas as pd\n",
    "    \n",
    "    # this is just an example dataframe\n",
    "    '''df=pd.DataFrame({\"had_chickenpox_column\":np.random.randint(1,3,size=(100)),\n",
    "                   \"num_chickenpox_vaccine_column\":np.random.randint(0,6,size=(100))})\n",
    "\n",
    "    # here is some stub code to actually run the correlation\n",
    "    corr, pval=stats.pearsonr(df[\"had_chickenpox_column\"],df[\"num_chickenpox_vaccine_column\"])'''\n",
    "    \n",
    "    # just return the correlation\n",
    "    #return corr\n",
    "\n",
    "    # YOUR CODE HERE\n",
    "    df_cpox = pd.read_csv('assets/NISPUF17.csv', usecols=['SEQNUMC', 'HAD_CPOX', 'P_NUMVRC'])\n",
    "    had_pox = []\n",
    "    num_vax = []\n",
    "    \n",
    "    df_wpox_mask = df_cpox['HAD_CPOX'] == 1\n",
    "    df_wpox = df_cpox[df_wpox_mask]     # children with pox\n",
    "    df_wpox_vax_mask = df_wpox['P_NUMVRC'] >= 0\n",
    "    df_wpox_vax = df_wpox[df_wpox_vax_mask]  # children with pox/number of vaxes\n",
    "    \n",
    "    df_nopox_mask = df_cpox['HAD_CPOX'] == 2  \n",
    "    df_nopox = df_cpox[df_nopox_mask]  # children without pox\n",
    "    df_nopox_vax_mask = df_nopox['P_NUMVRC'] >= 0\n",
    "    df_nopox_vax = df_nopox[df_nopox_vax_mask]  # childred w/out pox/number of vaxes\n",
    "      \n",
    "    had_pox = list(df_wpox_vax['HAD_CPOX'])\n",
    "    had_pox.extend(list(df_nopox_vax['HAD_CPOX']))\n",
    "    \n",
    "    num_vax = list(df_wpox_vax['P_NUMVRC'])\n",
    "    num_vax.extend(list(df_nopox_vax['P_NUMVRC']))\n",
    "    \n",
    "    had_pox_s = pd.Series(had_pox)\n",
    "    df_had_pox = pd.DataFrame(had_pox_s)\n",
    "    df_had_pox = df_had_pox.rename(columns = {0: \"had_chickenpox_column\"})\n",
    "                              \n",
    "    num_vax_s = pd.Series(num_vax)\n",
    "    df_num_vax = pd.DataFrame(num_vax_s)\n",
    "    df_num_vax = df_num_vax.rename(columns = {0: \"num_chickenpox_vaccine_column\"})\n",
    "    \n",
    "    pox_vac_df = pd.concat([df_had_pox, df_num_vax], axis=1)\n",
    "    pox_vac_df.sort_index(inplace=True)\n",
    "    \n",
    "    corr, pval=stats.pearsonr(pox_vac_df[\"had_chickenpox_column\"],pox_vac_df[\"num_chickenpox_vaccine_column\"])\n",
    "    \n",
    "    #print(pval)\n",
    "    #print(corr)\n",
    "    \n",
    "    return corr\n",
    "    raise NotImplementedError()"
   ]
  },
  {
   "cell_type": "code",
   "execution_count": 16,
   "metadata": {
    "deletable": false,
    "editable": false,
    "nbgrader": {
     "checksum": "ac50ccb747b99f6bbcc76da017e66528",
     "grade": true,
     "grade_id": "cell-73408733533a29a5",
     "locked": true,
     "points": 1,
     "schema_version": 1,
     "solution": false
    }
   },
   "outputs": [
    {
     "name": "stdout",
     "output_type": "stream",
     "text": [
      "0.07044873460147982\n"
     ]
    }
   ],
   "source": [
    "assert -1<=corr_chickenpox()<=1, \"You must return a float number between -1.0 and 1.0.\"\n"
   ]
  }
 ],
 "metadata": {
  "anaconda-cloud": {},
  "coursera": {
   "schema_names": [
    "mooc_adswpy_1_v2_assignment2"
   ]
  },
  "hide_code_all_hidden": false,
  "kernelspec": {
   "display_name": "Python 3",
   "language": "python",
   "name": "python3"
  },
  "language_info": {
   "codemirror_mode": {
    "name": "ipython",
    "version": 3
   },
   "file_extension": ".py",
   "mimetype": "text/x-python",
   "name": "python",
   "nbconvert_exporter": "python",
   "pygments_lexer": "ipython3",
   "version": "3.7.3"
  }
 },
 "nbformat": 4,
 "nbformat_minor": 1
}
